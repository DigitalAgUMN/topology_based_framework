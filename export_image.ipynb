{
 "cells": [
  {
   "cell_type": "code",
   "execution_count": 3,
   "metadata": {},
   "outputs": [],
   "source": [
    "#!/usr/bin/env python3\n",
    "# -*- coding: utf-8 -*-\n",
    "import numpy as np\n",
    "import matplotlib.pyplot as plt\n",
    "from osgeo import gdal\n",
    "import ee\n",
    "import geemap\n",
    "import numpy as np\n",
    "import matplotlib.pyplot as plt\n",
    "import os"
   ]
  },
  {
   "cell_type": "code",
   "execution_count": 4,
   "metadata": {},
   "outputs": [
    {
     "data": {
      "text/html": [
       "<p>To authorize access needed by Earth Engine, open the following\n",
       "        URL in a web browser and follow the instructions:</p>\n",
       "        <p><a href=https://accounts.google.com/o/oauth2/auth?client_id=517222506229-vsmmajv00ul0bs7p89v5m89qs8eb9359.apps.googleusercontent.com&scope=https%3A%2F%2Fwww.googleapis.com%2Fauth%2Fearthengine+https%3A%2F%2Fwww.googleapis.com%2Fauth%2Fdevstorage.full_control&redirect_uri=urn%3Aietf%3Awg%3Aoauth%3A2.0%3Aoob&response_type=code&code_challenge=UjWHmo52ed-RRcCW9LJC8E-0dRM329PYhrHysO5zlw0&code_challenge_method=S256>https://accounts.google.com/o/oauth2/auth?client_id=517222506229-vsmmajv00ul0bs7p89v5m89qs8eb9359.apps.googleusercontent.com&scope=https%3A%2F%2Fwww.googleapis.com%2Fauth%2Fearthengine+https%3A%2F%2Fwww.googleapis.com%2Fauth%2Fdevstorage.full_control&redirect_uri=urn%3Aietf%3Awg%3Aoauth%3A2.0%3Aoob&response_type=code&code_challenge=UjWHmo52ed-RRcCW9LJC8E-0dRM329PYhrHysO5zlw0&code_challenge_method=S256</a></p>\n",
       "        <p>The authorization workflow will generate a code, which you\n",
       "        should paste in the box below</p>\n",
       "        "
      ],
      "text/plain": [
       "<IPython.core.display.HTML object>"
      ]
     },
     "metadata": {},
     "output_type": "display_data"
    },
    {
     "name": "stdout",
     "output_type": "stream",
     "text": [
      "Enter verification code: 4/1AX4XfWjihEMT7yZAV8dbS9lCatYCXem_TCf7_j2h6hJTlXfU_pgO-dEZMeI\n",
      "\n",
      "Successfully saved authorization token.\n"
     ]
    }
   ],
   "source": [
    "import ee\n",
    "import geemap\n",
    "\n",
    "Map = geemap.Map()\n",
    "ee.Authenticate()\n",
    "ee.Initialize()\n",
    "\n",
    "# s2data = require('users/georgeazzari/EEtools:s2.data.js')\n",
    "# fsetrees = require('users/georgeazzari/EEtools:s2.cloudtree.fse.africa.js')\n",
    "\n",
    "def decodeQA60(img):\n",
    "    qa60 = img.select('QA60')#.updateMask(img.select('B2'))\n",
    "    cloudBitMask = qa60.bitwiseAnd(ee.Number(2).pow(10).int())\n",
    "    cirrusBitMask = qa60.bitwiseAnd(ee.Number(2).pow(11).int())\n",
    "    clear = cloudBitMask.eq(0).And(cirrusBitMask.eq(0)).rename(['PXQA60_CLEAR']).toInt()\n",
    "    clear = clear.updateMask(clear)\n",
    "    return img.addBands([clear])\n",
    "\n",
    "def applyCloudmask(img):\n",
    "    clearmask = img.select('PXQA60_CLEAR')\n",
    "    return img.updateMask(clearmask)\n",
    "\n"
   ]
  },
  {
   "cell_type": "markdown",
   "metadata": {},
   "source": [
    "Functions for mosaic sentienl-2 imagery"
   ]
  },
  {
   "cell_type": "code",
   "execution_count": 6,
   "metadata": {},
   "outputs": [],
   "source": [
    "def cutoverlap(img): \n",
    "    geo1 = img.geometry();\n",
    "    geo2 = img.translate(-9900.0, -9900, 'meters').geometry();\n",
    "    geo = geo1.intersection(geo2)\n",
    "    return ee.Algorithms.If(geo.geometries().length(), img.clip(geo), None);\n",
    "\n",
    "def get_orbit_num(imgCol):\n",
    "    return imgCol.aggregate_array('SENSING_ORBIT_NUMBER').distinct() ## revised by ZJ\n",
    "\n",
    "def cloudfree(date):\n",
    "    aoi = ee.FeatureCollection(\"TIGER/2018/States\").filterMetadata('NAME', 'equals', 'Iowa').geometry()\n",
    "    aoi = aoi.bounds()\n",
    "    increase = ee.Number(date)\n",
    "    start = ee.Date('2018-04-01').advance(increase.multiply(5), 'day')\n",
    "    end = ee.Date('2018-04-06').advance(increase.multiply(5), 'day')\n",
    "    s2col = ee.ImageCollection(\"COPERNICUS/S2\").filterDate(start, end).filterBounds(aoi).map(cutoverlap, True)\\\n",
    ".filterMetadata('MGRS_TILE', 'equals', '14TQM')\n",
    "    orbit = get_orbit_num(s2col)\n",
    "    def mosaic(i):\n",
    "        ds = s2col.filter(ee.Filter.eq('SENSING_ORBIT_NUMBER', i))\n",
    "        return ds.mosaic()  ## revised by ZJ\n",
    "    mosaiced = orbit.map(mosaic)\n",
    "    cloud_mask =  ee.ImageCollection(mosaiced).map(decodeQA60).map(applyCloudmask)\n",
    "    return cloud_mask.mosaic()  ##revised by ZJ\n",
    "#     return ee.ImageCollection(mosaiced).mosaic()"
   ]
  },
  {
   "cell_type": "code",
   "execution_count": 7,
   "metadata": {},
   "outputs": [],
   "source": [
    "def build_from_corner(feature, dx, dy, projection=None):\n",
    "\n",
    "    coordinates = feature.geometry().coordinates()\n",
    "\n",
    "    leftX = ee.Number(coordinates.get(0))\n",
    "    leftY = ee.Number(coordinates.get(1))\n",
    "    rightX = ee.Number(coordinates.get(0)).add(dx)\n",
    "    rightY = ee.Number(coordinates.get(1)).add(dy)\n",
    "    corners = ee.List([leftX, leftY, rightX, rightY])\n",
    "    \n",
    "    if projection is None:\n",
    "        geometry = ee.Geometry.Rectangle(corners)\n",
    "    else:\n",
    "        geometry = ee.Geometry.Rectangle(corners, proj=projection)\n",
    "\n",
    "    return ee.Feature(geometry)\n",
    "\n",
    "def get_box_grid(box, nx, ny):\n",
    "\n",
    "    coords = ee.List(box.coordinates())\n",
    "    minlon = ee.Number(ee.List(ee.List(coords.get(0)).get(0)).get(0))\n",
    "    maxlon = ee.Number(ee.List(ee.List(coords.get(0)).get(2)).get(0))\n",
    "    minlat = ee.Number(ee.List(ee.List(coords.get(0)).get(0)).get(1))\n",
    "    maxlat = ee.Number(ee.List(ee.List(coords.get(0)).get(2)).get(1))\n",
    "\n",
    "    dx = maxlon.subtract(minlon).abs().divide(nx-1)\n",
    "    dy = maxlat.subtract(minlat).abs().divide(ny-1)\n",
    "\n",
    "    lons = ee.List.sequence(minlon, maxlon, None, nx).slice(0, -1)\n",
    "    lats = ee.List.sequence(minlat, maxlat, None, ny).slice(0, -1)\n",
    "\n",
    "    def outter_map(x):\n",
    "        def inner_map(y):\n",
    "            return ee.Feature(ee.Geometry.Point([ee.Number(x), ee.Number(y)]))\n",
    "        return lats.map(inner_map)\n",
    "\n",
    "    pcoords = lons.map(outter_map)\n",
    "\n",
    "    ptsgrid = ee.FeatureCollection(pcoords.flatten())\n",
    "    grid = ptsgrid.map(lambda p: build_from_corner(p, dx, dy).set('corner', p))\n",
    "\n",
    "    return grid"
   ]
  },
  {
   "cell_type": "code",
   "execution_count": 11,
   "metadata": {},
   "outputs": [],
   "source": [
    "# grid = get_box_grid(aoi, 10, 10)\n",
    "aoi = ee.FeatureCollection(\"TIGER/2018/States\").filterMetadata('NAME', 'equals', 'Iowa').geometry()\n",
    "CDL = ee.ImageCollection(\"USDA/NASS/CDL\").filterDate('2017-01-01', '2017-12-31')\n",
    "fr = ee.Image(\"users/lin00370/france/RPG2019_2\").geometry()"
   ]
  },
  {
   "cell_type": "code",
   "execution_count": 9,
   "metadata": {},
   "outputs": [
    {
     "name": "stdout",
     "output_type": "stream",
     "text": [
      "Exporting ia_2018_0 ...\n",
      "Exporting ia_2018_1 ...\n",
      "Exporting ia_2018_2 ...\n",
      "Exporting ia_2018_3 ...\n",
      "Exporting ia_2018_4 ...\n",
      "Exporting ia_2018_5 ...\n",
      "Exporting ia_2018_6 ...\n",
      "Exporting ia_2018_7 ...\n",
      "Exporting ia_2018_8 ...\n",
      "Exporting ia_2018_9 ...\n",
      "Exporting ia_2018_10 ...\n",
      "Exporting ia_2018_11 ...\n",
      "Exporting ia_2018_12 ...\n",
      "Exporting ia_2018_13 ...\n",
      "Exporting ia_2018_14 ...\n",
      "Exporting ia_2018_15 ...\n",
      "Exporting ia_2018_16 ...\n",
      "Exporting ia_2018_17 ...\n",
      "Exporting ia_2018_18 ...\n",
      "Exporting ia_2018_19 ...\n",
      "Exporting ia_2018_20 ...\n",
      "Exporting ia_2018_21 ...\n",
      "Exporting ia_2018_22 ...\n",
      "Exporting ia_2018_23 ...\n"
     ]
    }
   ],
   "source": [
    "for i in range(0, 24):\n",
    "    intervals = ee.List.sequence(i, i)\n",
    "    countCol = intervals.map(cloudfree)\n",
    "    Map.addLayer(ee.Image(countCol.get(0)))\n",
    "#     band = ['B2', 'B3', 'B4', 'B5', 'B6', 'B7', 'B8', 'B8A', 'B11', 'B12']\n",
    "    band = ['B5', 'B11']\n",
    "    geemap.ee_export_image_to_drive(ee.Image(countCol.get(0)).select(band), \\\n",
    "                         description=\"ia_2018_\" + str(i), \\\n",
    "                         folder='GEE_IA_2018', \\\n",
    "                         max_pixels=1e13, \\\n",
    "                         region=ee.ImageCollection(\"COPERNICUS/S2\").filterMetadata('MGRS_TILE', 'equals', '14TQM').first().geometry().bounds(), \\\n",
    "                         crs='EPSG:4326', \\\n",
    "                         scale=30)\n",
    "    Map"
   ]
  },
  {
   "cell_type": "code",
   "execution_count": 12,
   "metadata": {},
   "outputs": [
    {
     "name": "stdout",
     "output_type": "stream",
     "text": [
      "Exporting IA_CDL_2017 ...\n"
     ]
    }
   ],
   "source": [
    "geemap.ee_export_image_to_drive(ee.Image(CDL.first()).select('cropland'), \\\n",
    "                     description=\"IA_CDL_2017\", \\\n",
    "                     folder='GEE_IA_2018', \\\n",
    "                     max_pixels=1e13, \\\n",
    "                     region=ee.ImageCollection(\"COPERNICUS/S2\").filterMetadata('MGRS_TILE', 'equals', '14TQM').first().geometry().bounds(), \\\n",
    "#                      region=mc, \\\n",
    "                     crs='EPSG:4326', \\\n",
    "                     scale=30)\n",
    "# arr = geemap.ee_to_numpy(ee.Image(test))"
   ]
  },
  {
   "cell_type": "code",
   "execution_count": null,
   "metadata": {},
   "outputs": [],
   "source": []
  }
 ],
 "metadata": {
  "kernelspec": {
   "display_name": "Python 3",
   "language": "python",
   "name": "python3"
  },
  "language_info": {
   "codemirror_mode": {
    "name": "ipython",
    "version": 3
   },
   "file_extension": ".py",
   "mimetype": "text/x-python",
   "name": "python",
   "nbconvert_exporter": "python",
   "pygments_lexer": "ipython3",
   "version": "3.8.8"
  }
 },
 "nbformat": 4,
 "nbformat_minor": 4
}
