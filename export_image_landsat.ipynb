{
 "cells": [
  {
   "cell_type": "code",
   "execution_count": 1,
   "metadata": {},
   "outputs": [],
   "source": [
    "#!/usr/bin/env python3\n",
    "# -*- coding: utf-8 -*-\n",
    "import numpy as np\n",
    "import matplotlib.pyplot as plt\n",
    "from osgeo import gdal\n",
    "from gdalconst import *\n",
    "import ee\n",
    "import geemap\n",
    "import numpy as np\n",
    "import matplotlib.pyplot as plt\n",
    "import os"
   ]
  },
  {
   "cell_type": "code",
   "execution_count": 2,
   "metadata": {},
   "outputs": [
    {
     "data": {
      "text/html": [
       "<p>To authorize access needed by Earth Engine, open the following\n",
       "        URL in a web browser and follow the instructions:</p>\n",
       "        <p><a href=https://accounts.google.com/o/oauth2/auth?client_id=517222506229-vsmmajv00ul0bs7p89v5m89qs8eb9359.apps.googleusercontent.com&scope=https%3A%2F%2Fwww.googleapis.com%2Fauth%2Fearthengine+https%3A%2F%2Fwww.googleapis.com%2Fauth%2Fdevstorage.full_control&redirect_uri=urn%3Aietf%3Awg%3Aoauth%3A2.0%3Aoob&response_type=code&code_challenge=zAyDn4KwJRuUOB-Mj9pcafK_R4scz3mqhQzcIZ4Uqv8&code_challenge_method=S256>https://accounts.google.com/o/oauth2/auth?client_id=517222506229-vsmmajv00ul0bs7p89v5m89qs8eb9359.apps.googleusercontent.com&scope=https%3A%2F%2Fwww.googleapis.com%2Fauth%2Fearthengine+https%3A%2F%2Fwww.googleapis.com%2Fauth%2Fdevstorage.full_control&redirect_uri=urn%3Aietf%3Awg%3Aoauth%3A2.0%3Aoob&response_type=code&code_challenge=zAyDn4KwJRuUOB-Mj9pcafK_R4scz3mqhQzcIZ4Uqv8&code_challenge_method=S256</a></p>\n",
       "        <p>The authorization workflow will generate a code, which you\n",
       "        should paste in the box below</p>\n",
       "        "
      ],
      "text/plain": [
       "<IPython.core.display.HTML object>"
      ]
     },
     "metadata": {},
     "output_type": "display_data"
    },
    {
     "name": "stdout",
     "output_type": "stream",
     "text": [
      "Enter verification code: 4/1AfDhmrg7mI6pk1B5tP1FtinRjeSIJkJgm2YNC5UKH4lpAzSGBjhe57YKtgg\n",
      "\n",
      "Successfully saved authorization token.\n"
     ]
    }
   ],
   "source": [
    "import ee\n",
    "import geemap\n",
    "\n",
    "Map = geemap.Map()\n",
    "ee.Authenticate()\n",
    "ee.Initialize()"
   ]
  },
  {
   "cell_type": "code",
   "execution_count": 3,
   "metadata": {},
   "outputs": [],
   "source": [
    "SR_ls8 = ee.ImageCollection(\"LANDSAT/LC08/C01/T1_SR\")\n",
    "SR_ls7 = ee.ImageCollection(\"LANDSAT/LE07/C01/T1_SR\")\n",
    "aoi = ee.FeatureCollection(\"TIGER/2018/States\").filterMetadata('NAME', 'equals', 'Iowa')\n",
    "aoi = aoi.geometry()"
   ]
  },
  {
   "cell_type": "code",
   "execution_count": 4,
   "metadata": {},
   "outputs": [],
   "source": [
    "\n",
    "def rename(image):\n",
    "    if image.get('SATELLITE') == 'LANDSAT_7':\n",
    "        image = image.select(['B4', 'B5']).rename(['NIR', 'SWIR'])\n",
    "    else:\n",
    "        image = image.select(['B5', 'B6']).rename(['NIR', 'SWIR']);\n",
    "    return image\n",
    "\n",
    "def cloud_mask(image):\n",
    "#     3 nd 5 are cloud shadow and cloud, respectively.\n",
    "     cloudShadowBitMask = ee.Number(2).pow(3).int();\n",
    "     cloudBitMask = ee.Number(2).pow(5).int();\n",
    "#   Get the pixel QA band.\n",
    "     qa = image.select('pixel_qa');\n",
    "#   Both flags should be set to zero, indicating clear conditions.\n",
    "     mask = qa.bitwiseAnd(cloudBitMask).eq(0).And(qa.bitwiseAnd(cloudShadowBitMask).eq(0));\n",
    "#   Return the masked image, scaled to [0, 1].\n",
    "     return image.addBands(mask.rename('mask'))\n",
    "\n",
    "def apply_mask(image):\n",
    "    return image.updateMask(image.select('mask'))"
   ]
  },
  {
   "cell_type": "code",
   "execution_count": 20,
   "metadata": {},
   "outputs": [],
   "source": [
    "def cloudfree_sr7(date):\n",
    "    aoi = ee.FeatureCollection(\"TIGER/2018/States\").filterMetadata('NAME', 'equals', 'Iowa')\n",
    "    aoi = aoi.geometry().bounds()\n",
    "    increase = ee.Number(date)\n",
    "    start = ee.Date('2019-06-01').advance(increase.multiply(16), 'day')\n",
    "    end = ee.Date('2019-06-17').advance(increase.multiply(16), 'day')\n",
    "#     SR = SR_ls8.filterBounds(aoi).merge(SR_ls7.filterBounds(aoi)).filterDate(start, end).map(cloud_mask)\n",
    "    SR = SR_ls7.filterBounds(aoi).filterDate(start, end).map(cloud_mask)\n",
    "    SR_mask = SR.map(apply_mask)\n",
    "    return SR_mask.mosaic()  ##revised by ZJ\n",
    "def cloudfree_sr8(date):\n",
    "    aoi = ee.FeatureCollection(\"TIGER/2018/States\").filterMetadata('NAME', 'equals', 'Iowa')\n",
    "    aoi = aoi.geometry().bounds()\n",
    "    increase = ee.Number(date)\n",
    "    start = ee.Date('2019-06-01').advance(increase.multiply(16), 'day')\n",
    "    end = ee.Date('2019-06-17').advance(increase.multiply(16), 'day')\n",
    "#     SR = SR_ls8.filterBounds(aoi).merge(SR_ls7.filterBounds(aoi)).filterDate(start, end).map(cloud_mask)\n",
    "    SR = SR_ls8.filterBounds(aoi).filterDate(start, end).map(cloud_mask)\n",
    "    SR_mask = SR.map(apply_mask)\n",
    "    return SR_mask.mosaic()  ##revised by ZJ"
   ]
  },
  {
   "cell_type": "markdown",
   "metadata": {},
   "source": [
    "Functions for mosaic sentienl-2 imagery"
   ]
  },
  {
   "cell_type": "code",
   "execution_count": 21,
   "metadata": {},
   "outputs": [],
   "source": [
    "CDL = ee.ImageCollection(\"USDA/NASS/CDL\").filterDate('2015-01-01', '2015-12-31')"
   ]
  },
  {
   "cell_type": "code",
   "execution_count": 22,
   "metadata": {},
   "outputs": [
    {
     "name": "stdout",
     "output_type": "stream",
     "text": [
      "Exporting IW_2019_ls70 ...\n",
      "Exporting IW_2019_ls80 ...\n",
      "Exporting IW_2019_ls71 ...\n",
      "Exporting IW_2019_ls81 ...\n",
      "Exporting IW_2019_ls72 ...\n",
      "Exporting IW_2019_ls82 ...\n",
      "Exporting IW_2019_ls73 ...\n",
      "Exporting IW_2019_ls83 ...\n",
      "Exporting IW_2019_ls74 ...\n",
      "Exporting IW_2019_ls84 ...\n",
      "Exporting IW_2019_ls75 ...\n",
      "Exporting IW_2019_ls85 ...\n",
      "Exporting IW_2019_ls76 ...\n",
      "Exporting IW_2019_ls86 ...\n",
      "Exporting IW_2019_ls77 ...\n",
      "Exporting IW_2019_ls87 ...\n"
     ]
    }
   ],
   "source": [
    "for i in range(0, 8):\n",
    "    intervals = ee.List.sequence(i, i)\n",
    "    countCol_sr7 = intervals.map(cloudfree_sr7)\n",
    "    countCol_sr8 = intervals.map(cloudfree_sr8)\n",
    "#     band = ['B1', 'B2', 'B3', 'B4', 'B5', 'B6', 'B7', 'B8', 'B8A', 'B11', 'B12']\n",
    "    band_ls7 = ['B4', 'B5']\n",
    "    band_ls8 = ['B5', 'B6']\n",
    "    geemap.ee_export_image_to_drive(ee.Image(countCol_sr7.get(0)).select(band_ls7), \\\n",
    "                         description=\"IW_2019_ls7\" + str(i), \\\n",
    "                         folder='GEE_landsat_2019', \\\n",
    "                         max_pixels=1e13, \\\n",
    "                         region=aoi, \\\n",
    "                         crs='EPSG:4326', \\\n",
    "                         scale=30)\n",
    "    geemap.ee_export_image_to_drive(ee.Image(countCol_sr8.get(0)).select(band_ls8), \\\n",
    "                     description=\"IW_2019_ls8\" + str(i), \\\n",
    "                     folder='GEE_landsat_2019', \\\n",
    "                     max_pixels=1e13, \\\n",
    "                     region=aoi, \\\n",
    "                     crs='EPSG:4326', \\\n",
    "                     scale=30)"
   ]
  },
  {
   "cell_type": "code",
   "execution_count": null,
   "metadata": {},
   "outputs": [],
   "source": []
  }
 ],
 "metadata": {
  "kernelspec": {
   "display_name": "Python 3",
   "language": "python",
   "name": "python3"
  },
  "language_info": {
   "codemirror_mode": {
    "name": "ipython",
    "version": 3
   },
   "file_extension": ".py",
   "mimetype": "text/x-python",
   "name": "python",
   "nbconvert_exporter": "python",
   "pygments_lexer": "ipython3",
   "version": "3.7.7"
  }
 },
 "nbformat": 4,
 "nbformat_minor": 4
}
